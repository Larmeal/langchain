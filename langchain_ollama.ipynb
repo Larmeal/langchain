{
 "cells": [
  {
   "cell_type": "code",
   "execution_count": 4,
   "metadata": {},
   "outputs": [],
   "source": [
    "from dotenv import load_dotenv\n",
    "\n",
    "import os"
   ]
  },
  {
   "cell_type": "markdown",
   "metadata": {},
   "source": [
    "### Call the Ollama 3\n",
    "\n",
    "LangChain: https://python.langchain.com/v0.2/docs/integrations/chat/ollama/"
   ]
  },
  {
   "cell_type": "code",
   "execution_count": 5,
   "metadata": {},
   "outputs": [],
   "source": [
    "from langchain_community.chat_models import ChatOllama\n",
    "\n",
    "llm = ChatOllama(model=\"llama3\")"
   ]
  },
  {
   "cell_type": "code",
   "execution_count": 6,
   "metadata": {},
   "outputs": [],
   "source": [
    "prompt = \"Explain the quantum mechanic in one sentence\"\n",
    "result = llm.invoke(prompt)"
   ]
  },
  {
   "cell_type": "code",
   "execution_count": 7,
   "metadata": {},
   "outputs": [
    {
     "name": "stdout",
     "output_type": "stream",
     "text": [
      "In quantum mechanics, particles such as atoms and subatomic particles can exist in multiple states simultaneously, known as superposition, and can also be connected by a phenomenon called entanglement, which allows their properties to be instantaneously affected regardless of distance.\n"
     ]
    }
   ],
   "source": [
    "print(result.content)"
   ]
  },
  {
   "cell_type": "markdown",
   "metadata": {},
   "source": [
    "### Langchain Schema"
   ]
  },
  {
   "cell_type": "code",
   "execution_count": 8,
   "metadata": {},
   "outputs": [],
   "source": [
    "# from langchain.schema import SystemMessage, HumanMessage, AIMessage\n",
    "from langchain_core.messages import HumanMessage, SystemMessage\n",
    "from langchain_community.chat_models import ChatOllama"
   ]
  },
  {
   "cell_type": "code",
   "execution_count": 10,
   "metadata": {},
   "outputs": [],
   "source": [
    "messages = [\n",
    "    SystemMessage(content=\"You are the Physicist and only response the output in Thai language only\"),\n",
    "    HumanMessage(content=prompt)\n",
    "]\n",
    "\n",
    "llm = ChatOllama(model=\"llama3\")\n",
    "result = llm.invoke(messages)"
   ]
  },
  {
   "cell_type": "code",
   "execution_count": null,
   "metadata": {},
   "outputs": [
    {
     "name": "stdout",
     "output_type": "stream",
     "text": [
      "\"อนุภาคไม่เต็มรหัสคืออนุภาคที่มีตำแหน่งและความเร็วไม่เป็นแน่นอนจนกระทั่งถูกวัด ทำให้เกิดปรากฏการณ์ที่ผิดปกติอย่างมากต่อทฤษฎีความจริงของฟิสิกส์คลาสสิก\"\n"
     ]
    }
   ],
   "source": [
    "print(result.content)"
   ]
  },
  {
   "cell_type": "markdown",
   "metadata": {},
   "source": [
    "### Caching LLM Response"
   ]
  },
  {
   "cell_type": "markdown",
   "metadata": {},
   "source": [
    "In Memory Caching"
   ]
  },
  {
   "cell_type": "code",
   "execution_count": 13,
   "metadata": {},
   "outputs": [],
   "source": [
    "from langchain.globals import set_llm_cache\n",
    "from langchain.cache import InMemoryCache\n",
    "from langchain_community.chat_models import ChatOllama\n",
    "\n",
    "set_llm_cache(InMemoryCache())"
   ]
  },
  {
   "cell_type": "code",
   "execution_count": 14,
   "metadata": {},
   "outputs": [],
   "source": [
    "prompt = \"Tell me a some dad jokes in ten examples in Thai language\""
   ]
  },
  {
   "cell_type": "code",
   "execution_count": 15,
   "metadata": {},
   "outputs": [
    {
     "name": "stdout",
     "output_type": "stream",
     "text": [
      "Here are 10 dad jokes in Thai:\n",
      "\n",
      "1. ทำไมคุณมันส์เพราะว่าคุณนอนไม่พอ (Dam mai khun man sup prahw khun nan mai pho) - Why did you sleep well? Because you didn't sleep enough!\n",
      "2. ฉันอยากกินไก่ทอดเพราะฉันอยากได้ข้าว (Chan yak kin kai tot prahw chan yak dii khaao) - I want fried chicken because I want rice! \n",
      "3. คุณเป็นอะไรคะ ทำไมมองฉันอย่างนั้น (Khun bpen arai kha, dam mai mong chan yen nahn) - What's wrong with you? Why are you looking at me like that?\n",
      "4. ฉันขอโทษที่ไม่เอาเรือไปเที่ยว (Chan khao thot thi mai ao reua pai thai) - I'm sorry I didn't take the boat out to play!\n",
      "5. คุณอยากมั้ยเพราะว่าคุณไม่อยากมั้ย (Khun yak maai prahw khun mai yak maai) - Do you want it because you don't want it?\n",
      "6. ฉันไปโรงพยาบาลเพราะว่าฉันหูเล็ด (Chan pai rohng pok yaa prahw chan huu let) - I went to the hospital because I had a headache!\n",
      "7. ทำไมคุณเอาเรือไปเที่ยวไม่สำเร็จ (Dam mai khun ao reua pai thai mai samreut) - Why didn't you take the boat out and succeed?\n",
      "8. ฉันอยากมีแฟนเพราะว่าคุณอยากมีแฟนด้วย (Chan yak mee fan prahw khun yak mee fan duay) - I want to have a girlfriend because you want to have one too!\n",
      "9. คุณเป็นอะไรคะ ทำไมเอาเรือไปเที่ยวไม่สำเร็จ (Khun bpen arai kha, dam mai ao reua pai thai mai samreut) - What's wrong with you? Why didn't you take the boat out and succeed?\n",
      "10. ฉันอยากกินข้าวเพราะว่าคุณอยากกินไก่ทอด (Chan yak kin khaao prahw khun yak kin kai tot) - I want to eat rice because you want to eat fried chicken!\n",
      "\n",
      "Note: Dad jokes are intentionally cheesy and corny, so these puns might not be as funny in Thai as they would be in English!\n",
      "CPU times: total: 0 ns\n",
      "Wall time: 17.4 s\n"
     ]
    }
   ],
   "source": [
    "%%time\n",
    "llm = ChatOllama(model=\"llama3\")\n",
    "output = llm.invoke(prompt)\n",
    "print(output.content)\n"
   ]
  },
  {
   "cell_type": "code",
   "execution_count": 16,
   "metadata": {},
   "outputs": [
    {
     "name": "stdout",
     "output_type": "stream",
     "text": [
      "Here are 10 dad jokes in Thai:\n",
      "\n",
      "1. ทำไมคุณมันส์เพราะว่าคุณนอนไม่พอ (Dam mai khun man sup prahw khun nan mai pho) - Why did you sleep well? Because you didn't sleep enough!\n",
      "2. ฉันอยากกินไก่ทอดเพราะฉันอยากได้ข้าว (Chan yak kin kai tot prahw chan yak dii khaao) - I want fried chicken because I want rice! \n",
      "3. คุณเป็นอะไรคะ ทำไมมองฉันอย่างนั้น (Khun bpen arai kha, dam mai mong chan yen nahn) - What's wrong with you? Why are you looking at me like that?\n",
      "4. ฉันขอโทษที่ไม่เอาเรือไปเที่ยว (Chan khao thot thi mai ao reua pai thai) - I'm sorry I didn't take the boat out to play!\n",
      "5. คุณอยากมั้ยเพราะว่าคุณไม่อยากมั้ย (Khun yak maai prahw khun mai yak maai) - Do you want it because you don't want it?\n",
      "6. ฉันไปโรงพยาบาลเพราะว่าฉันหูเล็ด (Chan pai rohng pok yaa prahw chan huu let) - I went to the hospital because I had a headache!\n",
      "7. ทำไมคุณเอาเรือไปเที่ยวไม่สำเร็จ (Dam mai khun ao reua pai thai mai samreut) - Why didn't you take the boat out and succeed?\n",
      "8. ฉันอยากมีแฟนเพราะว่าคุณอยากมีแฟนด้วย (Chan yak mee fan prahw khun yak mee fan duay) - I want to have a girlfriend because you want to have one too!\n",
      "9. คุณเป็นอะไรคะ ทำไมเอาเรือไปเที่ยวไม่สำเร็จ (Khun bpen arai kha, dam mai ao reua pai thai mai samreut) - What's wrong with you? Why didn't you take the boat out and succeed?\n",
      "10. ฉันอยากกินข้าวเพราะว่าคุณอยากกินไก่ทอด (Chan yak kin khaao prahw khun yak kin kai tot) - I want to eat rice because you want to eat fried chicken!\n",
      "\n",
      "Note: Dad jokes are intentionally cheesy and corny, so these puns might not be as funny in Thai as they would be in English!\n",
      "CPU times: total: 0 ns\n",
      "Wall time: 0 ns\n"
     ]
    }
   ],
   "source": [
    "%%time\n",
    "llm = ChatOllama(model=\"llama3\")\n",
    "output = llm.invoke(prompt)\n",
    "print(output.content)\n"
   ]
  },
  {
   "cell_type": "markdown",
   "metadata": {},
   "source": [
    "SQLite Caching"
   ]
  },
  {
   "cell_type": "code",
   "execution_count": 19,
   "metadata": {},
   "outputs": [],
   "source": [
    "from langchain.cache import SQLiteCache\n",
    "\n",
    "set_llm_cache(SQLiteCache(database_path=\"./langchain.db\"))"
   ]
  },
  {
   "cell_type": "code",
   "execution_count": 18,
   "metadata": {},
   "outputs": [
    {
     "name": "stdout",
     "output_type": "stream",
     "text": [
      "Here are 10 dad jokes in Thai language:\n",
      "\n",
      "1. ทำไมคุณล่ะ? (Tahm mai khun la?) - \"Why so serious?\" (Answer: Because I'm a grape, and I'm crushed!)\n",
      "2. ฉันไปหาหมอเพราะทำอะไรน่ะ (Chân bpai hāo môob pràat châaw àrîi nǎ) - \"I went to the doctor because I was feeling weird...\" (But actually, it's just because I ate too much sticky rice!)\n",
      "3. คุณไม่คิดว่านี่เป็นฟาร์มสุนัขแล้วน่ะ (Khun mâi khit wân nee bpen farmsun khûn laew nǎ) - \"You don't think this is a dog farm already, do you?\" (But actually, it's just my neighbor's annoying yapping!)\n",
      "4. ฉันไปสวนสัตว์เพราะอยากได้หอก (Chân bpai sân sât pràat yâak dai hôk) - \"I went to the zoo because I wanted a stick...\" (But actually, it was for the cute animal selfies!)\n",
      "5. ทำไมคุณไม่เอาหมูออกจากที่นี่เลย (Tahm mai khun mâi ãe môo àawk jàk nîi léow) - \"Why didn't you take the cat out of here?\" (Because I'm allergic to fur, but really it's just because it was sleeping too much!)\n",
      "6. ฉันไปโรงเรียนเพราะอยากได้ขนม (Chân bpai khrûng riian pràat yâak dai khnom) - \"I went to school because I wanted candy...\" (But actually, it was for the math test... or maybe not?)\n",
      "7. คุณไม่คิดว่านี่เป็นเกาะหอยแล้วน่ะ (Khun mâi khit wân nee bpen kôh hòi laew nǎ) - \"You don't think this is a snail island already, do you?\" (But actually, it's just my neighbor's weird snail collection!)\n",
      "8. ทำไมคุณอยากออกจากบ้านนี้แล้ว (Tahm mai khun yâak àawk jàk bâhn nee laew) - \"Why do you want to leave this house already?\" (Because I'm out of Wi-Fi, but really it's because the in-laws are visiting!)\n",
      "9. ฉันไปที่ตลาดเพราะอยากได้ข้าวเหนียว (Chân bpai thīi màrt pràat yâak dai khào nǐo) - \"I went to the market because I wanted sweet rice...\" (But actually, it was for the free samples... or maybe not?)\n",
      "10. คุณไม่คิดว่านี่เป็นเรือนทะเลแล้วน่ะ (Khun mâi khit wân nee bpen reuawn tàaw léw nǎ) - \"You don't think this is a sea turtle already, do you?\" (But actually, it's just my friend's weird aquarium collection!)\n",
      "\n",
      "Note: Please keep in mind that dad jokes are often cheesy and corny, and may not be suitable for all audiences.\n",
      "CPU times: total: 0 ns\n",
      "Wall time: 14.8 s\n"
     ]
    }
   ],
   "source": [
    "%%time\n",
    "llm = ChatOllama(model=\"llama3\")\n",
    "output = llm.invoke(prompt)\n",
    "print(output.content)\n"
   ]
  },
  {
   "cell_type": "code",
   "execution_count": 21,
   "metadata": {},
   "outputs": [
    {
     "name": "stdout",
     "output_type": "stream",
     "text": [
      "Here are 10 dad jokes in Thai language:\n",
      "\n",
      "1. ทำไมคุณล่ะ? (Tahm mai khun la?) - \"Why so serious?\" (Answer: Because I'm a grape, and I'm crushed!)\n",
      "2. ฉันไปหาหมอเพราะทำอะไรน่ะ (Chân bpai hāo môob pràat châaw àrîi nǎ) - \"I went to the doctor because I was feeling weird...\" (But actually, it's just because I ate too much sticky rice!)\n",
      "3. คุณไม่คิดว่านี่เป็นฟาร์มสุนัขแล้วน่ะ (Khun mâi khit wân nee bpen farmsun khûn laew nǎ) - \"You don't think this is a dog farm already, do you?\" (But actually, it's just my neighbor's annoying yapping!)\n",
      "4. ฉันไปสวนสัตว์เพราะอยากได้หอก (Chân bpai sân sât pràat yâak dai hôk) - \"I went to the zoo because I wanted a stick...\" (But actually, it was for the cute animal selfies!)\n",
      "5. ทำไมคุณไม่เอาหมูออกจากที่นี่เลย (Tahm mai khun mâi ãe môo àawk jàk nîi léow) - \"Why didn't you take the cat out of here?\" (Because I'm allergic to fur, but really it's just because it was sleeping too much!)\n",
      "6. ฉันไปโรงเรียนเพราะอยากได้ขนม (Chân bpai khrûng riian pràat yâak dai khnom) - \"I went to school because I wanted candy...\" (But actually, it was for the math test... or maybe not?)\n",
      "7. คุณไม่คิดว่านี่เป็นเกาะหอยแล้วน่ะ (Khun mâi khit wân nee bpen kôh hòi laew nǎ) - \"You don't think this is a snail island already, do you?\" (But actually, it's just my neighbor's weird snail collection!)\n",
      "8. ทำไมคุณอยากออกจากบ้านนี้แล้ว (Tahm mai khun yâak àawk jàk bâhn nee laew) - \"Why do you want to leave this house already?\" (Because I'm out of Wi-Fi, but really it's because the in-laws are visiting!)\n",
      "9. ฉันไปที่ตลาดเพราะอยากได้ข้าวเหนียว (Chân bpai thīi màrt pràat yâak dai khào nǐo) - \"I went to the market because I wanted sweet rice...\" (But actually, it was for the free samples... or maybe not?)\n",
      "10. คุณไม่คิดว่านี่เป็นเรือนทะเลแล้วน่ะ (Khun mâi khit wân nee bpen reuawn tàaw léw nǎ) - \"You don't think this is a sea turtle already, do you?\" (But actually, it's just my friend's weird aquarium collection!)\n",
      "\n",
      "Note: Please keep in mind that dad jokes are often cheesy and corny, and may not be suitable for all audiences.\n",
      "CPU times: total: 0 ns\n",
      "Wall time: 4.01 ms\n"
     ]
    }
   ],
   "source": [
    "%%time\n",
    "llm = ChatOllama(model=\"llama3\")\n",
    "output = llm.invoke(prompt)\n",
    "print(output.content)\n"
   ]
  },
  {
   "cell_type": "markdown",
   "metadata": {},
   "source": [
    "### Langchain Streaming"
   ]
  },
  {
   "cell_type": "code",
   "execution_count": 22,
   "metadata": {},
   "outputs": [],
   "source": [
    "from langchain_community.chat_models import ChatOllama\n",
    "\n",
    "llm = ChatOllama(model=\"llama3\")\n",
    "prompt = \"Tell me a chorus lyrics of 'talking to the moon' of Bruno mars\""
   ]
  },
  {
   "cell_type": "code",
   "execution_count": 23,
   "metadata": {},
   "outputs": [
    {
     "name": "stdout",
     "output_type": "stream",
     "text": [
      "The chorus lyrics of \"Talking to the Moon\" by Bruno Mars are:\n",
      "\n",
      "\"Oh, I'm talking to the moon\n",
      "Trying to get to you\n",
      "I'll be there soon, baby\n",
      "Oh, I'm talking to the moon\"\n",
      "\n",
      "Let me know if you'd like more information or anything else!"
     ]
    }
   ],
   "source": [
    "for chunk in llm.stream(prompt):\n",
    "    print(chunk.content, end=\"\", flush=True)"
   ]
  },
  {
   "cell_type": "markdown",
   "metadata": {},
   "source": [
    "### Langchain PromptTemplates"
   ]
  },
  {
   "cell_type": "code",
   "execution_count": 24,
   "metadata": {},
   "outputs": [],
   "source": [
    "from langchain.prompts import PromptTemplate\n",
    "from langchain_community.chat_models import ChatOllama\n"
   ]
  },
  {
   "cell_type": "code",
   "execution_count": 25,
   "metadata": {},
   "outputs": [],
   "source": [
    "template = \"\"\"\n",
    "    You are the expert virologist.\n",
    "    Write a few sentence to explain about the {virus} in {language} language.\n",
    "\"\"\"\n",
    "\n",
    "prompt_template = PromptTemplate.from_template(template=template)"
   ]
  },
  {
   "cell_type": "code",
   "execution_count": 26,
   "metadata": {},
   "outputs": [
    {
     "data": {
      "text/plain": [
       "'\\n    You are the expert virologist.\\n    Write a few sentence to explain about the HIV in Thai language.\\n'"
      ]
     },
     "execution_count": 26,
     "metadata": {},
     "output_type": "execute_result"
    }
   ],
   "source": [
    "prompt = prompt_template.format(virus=\"HIV\", language=\"Thai\")\n",
    "prompt"
   ]
  },
  {
   "cell_type": "code",
   "execution_count": 28,
   "metadata": {},
   "outputs": [
    {
     "name": "stdout",
     "output_type": "stream",
     "text": [
      "I'd be happy to help!\n",
      "\n",
      "Here's an explanation of HIV in Thai:\n",
      "\n",
      "\"เอชไอ維รัส (HIV) คือไวรัสที่ทำให้เกิดโรคเอดส์ (AIDS) มันแพร่กระจายโดยเฉพาะผ่านการมีเพศสัมพันธ์ไม่คุ้มครอง การแยกเลือดหรือสารคั่นสมัย และการสัมผัสของเสียจากคนป่วยเป็นเอดส์ วิธีที่ดีที่สุดในการป้องกันไวรัสดังกล่าวคือการใช้ถุงยางอนามัยอย่างเหมาะสม การตรวจสอบสุขภาพตนเอง และการใช้ราคะมิเลตที่ปลอดภัย\"\n",
      "\n",
      "Translation:\n",
      "\n",
      "\"HIV is a virus that causes AIDS. It spreads mainly through unprotected sex, sharing needles or syringes, and contact with bodily fluids from someone who has AIDS. The best way to prevent this virus is by using condoms properly, self-testing, and using safe sex practices.\"\n",
      "\n",
      "Please note: I'm not a medical professional, so please consult a qualified healthcare provider for any specific medical advice or questions you may have about HIV/AIDS.\n",
      "\n",
      "Also, as an expert virologist, I would like to emphasize that accurate information and awareness are crucial in preventing the spread of HIV/AIDS. If you're interested in learning more about HIV/AIDS or want to get involved in promoting awareness and education on this topic, please let me know!\n"
     ]
    }
   ],
   "source": [
    "llm = ChatOllama(model=\"llama3\")\n",
    "output = llm.invoke(prompt).content\n",
    "print(output)"
   ]
  },
  {
   "cell_type": "markdown",
   "metadata": {},
   "source": [
    "### Langchain ChatPromptTemplates"
   ]
  },
  {
   "cell_type": "code",
   "execution_count": 33,
   "metadata": {},
   "outputs": [],
   "source": [
    "from langchain.prompts import ChatPromptTemplate, HumanMessagePromptTemplate, PromptTemplate\n",
    "from langchain_community.chat_models import ChatOllama\n",
    "from langchain_core.messages import SystemMessage\n",
    "\n",
    "llm = ChatOllama(model=\"llama3\")"
   ]
  },
  {
   "cell_type": "code",
   "execution_count": 30,
   "metadata": {},
   "outputs": [],
   "source": [
    "chat_template = ChatPromptTemplate.from_messages(\n",
    "    [\n",
    "        SystemMessage(content=\"You have to response array in JSON format\"),\n",
    "        HumanMessagePromptTemplate.from_template(\"Top {n} countries at {continent} order by population\")\n",
    "    ]\n",
    ")\n",
    "\n",
    "messages = chat_template.format_messages(n=10, continent=\"asia\")"
   ]
  },
  {
   "cell_type": "code",
   "execution_count": 32,
   "metadata": {},
   "outputs": [
    {
     "name": "stdout",
     "output_type": "stream",
     "text": [
      "Here is the list of top 10 countries in Asia, ordered by population:\n",
      "\n",
      "[\n",
      "  {\n",
      "    \"Country\": \"China\",\n",
      "    \"Population\": 1431910000\n",
      "  },\n",
      "  {\n",
      "    \"Country\": \"India\",\n",
      "    \"Population\": 1380004385\n",
      "  },\n",
      "  {\n",
      "    \"Country\": \"Indonesia\",\n",
      "    \"Population\": 273523615\n",
      "  },\n",
      "  {\n",
      "    \"Country\": \"Pakistan\",\n",
      "    \"Population\": 216579114\n",
      "  },\n",
      "  {\n",
      "    \"Country\": \"Bangladesh\",\n",
      "    \"Population\": 166303125\n",
      "  },\n",
      "  {\n",
      "    \"Country\": \"Japan\",\n",
      "    \"Population\": 127988536\n",
      "  },\n",
      "  {\n",
      "    \"Country\": \"South Korea\",\n",
      "    \"Population\": 51151798\n",
      "  },\n",
      "  {\n",
      "    \"Country\": \"Thailand\",\n",
      "    \"Population\": 69144595\n",
      "  },\n",
      "  {\n",
      "    \"Country\": \"Vietnam\",\n",
      "    \"Population\": 98329951\n",
      "  },\n",
      "  {\n",
      "    \"Country\": \"Myanmar (Burma)\",\n",
      "    \"Population\": 54341800\n",
      "  }\n",
      "]\n",
      "\n",
      "Note: Population figures are approximate and based on the latest available data from reliable sources.\n"
     ]
    }
   ],
   "source": [
    "output = llm.invoke(messages)\n",
    "print(output.content)"
   ]
  },
  {
   "cell_type": "markdown",
   "metadata": {},
   "source": [
    "### Langchain Chained Messages"
   ]
  },
  {
   "cell_type": "code",
   "execution_count": 1,
   "metadata": {},
   "outputs": [],
   "source": [
    "from langchain.prompts import PromptTemplate\n",
    "from langchain.chains import LLMChain\n",
    "from langchain_community.chat_models import ChatOllama\n",
    "\n",
    "\n",
    "llm = ChatOllama(model=\"llama3\", verbose=True)"
   ]
  },
  {
   "cell_type": "code",
   "execution_count": 2,
   "metadata": {},
   "outputs": [],
   "source": [
    "template = \"\"\"\n",
    "    You are the expert virologist.\n",
    "    Write a few sentence to explain about the {virus} in {language} language.\n",
    "\"\"\"\n",
    "\n",
    "prompt_template = PromptTemplate.from_template(template=template)"
   ]
  },
  {
   "cell_type": "code",
   "execution_count": 3,
   "metadata": {},
   "outputs": [],
   "source": [
    "chain = prompt_template | llm\n",
    "\n",
    "output = chain.invoke({\"virus\": \"HIV\", \"language\": \"Thai\"})"
   ]
  },
  {
   "cell_type": "code",
   "execution_count": 4,
   "metadata": {},
   "outputs": [
    {
     "name": "stdout",
     "output_type": "stream",
     "text": [
      "I'd be happy to help. Here's an explanation of HIV in Thai:\n",
      "\n",
      "\"เอชไอวี (HIV) คือเชื้อโรคที่ทำให้ระบบ면หลังของคนทำงานผิดปกติ ทำให้ร่างกายไม่สามารถสร้างภูมิคุ้มกันต่อต้านเชื้อโรคได้ ซึ่งอาจส่งผลให้เกิดโรคที่เรียกว่าเอดส์ (AIDS) หากไม่ได้รับการรักษา\"\n",
      "\n",
      "Translated to English, this means:\n",
      "\n",
      "\"HIV is a virus that affects the immune system of humans, making it unable to fight off other infections. If left untreated, it can lead to AIDS.\"\n",
      "\n",
      "Note: Please keep in mind that I'm not a native Thai speaker and my translation may not be perfect.\n"
     ]
    }
   ],
   "source": [
    "print(output.content)"
   ]
  },
  {
   "cell_type": "markdown",
   "metadata": {},
   "source": [
    "### Langchain Agent"
   ]
  },
  {
   "cell_type": "markdown",
   "metadata": {},
   "source": [
    "Python REPL for Calculator"
   ]
  },
  {
   "cell_type": "code",
   "execution_count": 5,
   "metadata": {},
   "outputs": [],
   "source": [
    "from langchain_experimental.agents.agent_toolkits import create_python_agent\n",
    "from langchain_experimental.tools.python.tool import PythonREPLTool\n",
    "from langchain_community.chat_models import ChatOllama\n",
    "\n",
    "llm = ChatOllama(model=\"llama3\")\n",
    "agent_executor = create_python_agent(\n",
    "    llm=llm,\n",
    "    tool=PythonREPLTool(),\n",
    "    verbose=True\n",
    ")"
   ]
  },
  {
   "cell_type": "code",
   "execution_count": 12,
   "metadata": {},
   "outputs": [
    {
     "name": "stdout",
     "output_type": "stream",
     "text": [
      "\n",
      "\n",
      "\u001b[1m> Entering new AgentExecutor chain...\u001b[0m\n",
      "\u001b[32;1m\u001b[1;3mThought: To calculate the second root of the factorial of 14, I need to first calculate the factorial of 14, then calculate its square root, and finally take the square root of that result.\n",
      "\n",
      "Action: Python_REPL\n",
      "Action Input: `import math; math.sqrt(math.factorial(14)) ** 0.5\u001b[0m\n",
      "Observation: \u001b[36;1m\u001b[1;3m\u001b[0m\n",
      "Thought:\u001b[32;1m\u001b[1;3mHere's how I approach this problem:\n",
      "\n",
      "Question: Calculate the 2rd root of the factorial of 14 and display it with 2 decimal points?\n",
      "Thought: To calculate the second root of the factorial of 14, I need to first calculate the factorial of 14, then calculate its square root, and finally take the square root of that result.\n",
      "\n",
      "Action: Python_REPL\n",
      "Action Input: `import math; math.sqrt(math.factorial(14)) ** 0.5\u001b[0m\n",
      "Observation: \u001b[36;1m\u001b[1;3m\u001b[0m\n",
      "Thought:\u001b[32;1m\u001b[1;3mI can help with this question. Here's how I approach this problem:\n",
      "\n",
      "Question: Calculate the 2rd root of the factorial of 14 and display it with 2 decimal points?\n",
      "Thought: To calculate the second root of the factorial of 14, I need to first calculate the factorial of 14, then calculate its square root, and finally take the square root of that result.\n",
      "\n",
      "Action: Python_REPL\n",
      "Action Input: `import math; math.sqrt(math.factorial(14)) ** 0.5\u001b[0m\n",
      "Observation: \u001b[36;1m\u001b[1;3m\u001b[0m\n",
      "Thought:\u001b[32;1m\u001b[1;3mLet's execute the code!\n",
      "\n",
      "Question: Calculate the 2rd root of the factorial of 14 and display it with 2 decimal points?\n",
      "Thought: To calculate the second root of the factorial of 14, I need to first calculate the factorial of 14, then calculate its square root, and finally take the square root of that result.\n",
      "\n",
      "Action: Python_REPL\n",
      "Action Input: `import math; math.sqrt(math.factorial(14)) ** 0.5\u001b[0m\n",
      "Observation: \u001b[36;1m\u001b[1;3m\u001b[0m\n",
      "Thought:\u001b[32;1m\u001b[1;3mI'm ready to help! Here's how I'll approach this problem:\n",
      "\n",
      "Question: Calculate the 2rd root of the factorial of 14 and display it with 2 decimal points?\n",
      "Thought: To calculate the second root of the factorial of 14, I need to first calculate the factorial of 14, then calculate its square root, and finally take the square root of that result.\n",
      "\n",
      "Action: Python_REPL\n",
      "Action Input: `import math; print(round(math.sqrt(math.factorial(14)) ** 0.5, 2))\u001b[0m\n",
      "Observation: \u001b[36;1m\u001b[1;3m543.38\n",
      "\u001b[0m\n",
      "Thought:\u001b[32;1m\u001b[1;3mFinal Answer:\n",
      "\n",
      "The final answer is 5.43 (which was rounded to two decimal places).\u001b[0m\n",
      "\n",
      "\u001b[1m> Finished chain.\u001b[0m\n"
     ]
    },
    {
     "data": {
      "text/plain": [
       "{'input': 'Calculate the 2rd root of the factorial of 14 and display it with 2 decimal points?',\n",
       " 'output': 'The final answer is 5.43 (which was rounded to two decimal places).'}"
      ]
     },
     "execution_count": 12,
     "metadata": {},
     "output_type": "execute_result"
    }
   ],
   "source": [
    "query = \"Calculate the 2rd root of the factorial of 14 and display it with 2 decimal points?\"\n",
    "agent_executor.invoke(query)"
   ]
  },
  {
   "cell_type": "markdown",
   "metadata": {},
   "source": [
    "DuckDuckGo for Search"
   ]
  },
  {
   "cell_type": "code",
   "execution_count": 16,
   "metadata": {},
   "outputs": [],
   "source": [
    "# from langchain.tools import DuckDuckGoSearchResults, DuckDuckGoSearchRun, tavily_search\n",
    "from langchain_community.tools.ddg_search.tool import DuckDuckGoSearchRun, DuckDuckGoSearchResults"
   ]
  },
  {
   "cell_type": "code",
   "execution_count": 17,
   "metadata": {},
   "outputs": [],
   "source": [
    "search = DuckDuckGoSearchRun()\n",
    "search_results = DuckDuckGoSearchResults()"
   ]
  },
  {
   "cell_type": "code",
   "execution_count": 18,
   "metadata": {},
   "outputs": [
    {
     "name": "stdout",
     "output_type": "stream",
     "text": [
      "Git is a version control system that tracks file changes and GitHub is a platform that allows developers to collaborate and store their code in the cloud. Think of it this way: Git is responsible for everything GitHub-related that happens locally on your computer. They both work together to make building, scaling, securing, and storing software ... Git offers a variety of configurations that can streamline your workflow. In this section, I will guide you through the process of setting up Git on your local machine. Let's get started. Configuring your name and email address on your local machine is an essential step in setting up Git. These details are attached to each commit you make ... Learn what Git is, how to install and configure it, and how to use its basic commands to create, commit, and sync repositories. This guide covers the essential concepts and workflows of Git for developers. What is Git? Git is a distributed version control system designed to handle everything from small to very large projects with speed and efficiency. It was created by Linus Torvalds in 2005 for the development of the Linux kernel. In this article, we will discuss about Git, its features, advantages, and disadvantages. Git is a distributed version control system and source code management system.It is designed to handle everything from small to very large projects with speed and efficiency. Git allows multiple developers to work on the same project without overwriting each other's changes, providing collaborative work and continuous integration and deployment.\n"
     ]
    }
   ],
   "source": [
    "response = search.run(\"What is Git?\")\n",
    "print(response)"
   ]
  },
  {
   "cell_type": "code",
   "execution_count": 19,
   "metadata": {},
   "outputs": [
    {
     "name": "stdout",
     "output_type": "stream",
     "text": [
      "[snippet: Git is a version control system that tracks file changes and GitHub is a platform that allows developers to collaborate and store their code in the cloud. Think of it this way: Git is responsible for everything GitHub-related that happens locally on your computer. They both work together to make building, scaling, securing, and storing software ..., title: What is Git? Our beginner's guide to version control, link: https://github.blog/2024-05-27-what-is-git-our-beginners-guide-to-version-control/], [snippet: What is Git? Git is a distributed version control system designed to handle everything from small to very large projects with speed and efficiency. It was created by Linus Torvalds in 2005 for the development of the Linux kernel. In this article, we will discuss about Git, its features, advantages, and disadvantages., title: What is Git? - GeeksforGeeks, link: https://www.geeksforgeeks.org/what-is-git/], [snippet: Git offers a variety of configurations that can streamline your workflow. In this section, I will guide you through the process of setting up Git on your local machine. Let's get started. Configuring your name and email address on your local machine is an essential step in setting up Git. These details are attached to each commit you make ..., title: How to Use Git and GitHub - a Guide for Beginners and Experienced ..., link: https://www.freecodecamp.org/news/guide-to-git-github-for-beginners-and-experienced-devs/], [snippet: Learn what Git is, how to install and configure it, and how to use its basic commands to create, commit, and sync repositories. This guide covers the essential concepts and workflows of Git for developers., title: Git for Beginners: The Definitive Practical Guide - Baeldung, link: https://www.baeldung.com/ops/git-guide]\n"
     ]
    }
   ],
   "source": [
    "response = search_results.run(\"What is Git?\")\n",
    "print(response)"
   ]
  },
  {
   "cell_type": "code",
   "execution_count": 20,
   "metadata": {},
   "outputs": [],
   "source": [
    "###################################### Convert to string to JSON #######################################\n",
    "\n",
    "# import re\n",
    "# import json\n",
    "\n",
    "# # String pattern to be converted\n",
    "# # Function to convert string pattern to JSON format\n",
    "# def convert_to_json(data_string: str) -> json:\n",
    "#     # Regular expression to extract snippets, titles, and links\n",
    "#     pattern = re.compile(r'\\[snippet: (.*?), title: (.*?), link: (.*?)\\]')\n",
    "    \n",
    "#     # Finding all matches in the string\n",
    "#     matches = pattern.findall(data_string)\n",
    "    \n",
    "#     # Preparing the list of dictionaries\n",
    "#     json_list = []\n",
    "#     for match in matches:\n",
    "#         snippet, title, link = match\n",
    "#         entry_dict = {\n",
    "#             \"snippet\": snippet.strip(),\n",
    "#             \"title\": title.strip(),\n",
    "#             \"link\": link.strip()\n",
    "#         }\n",
    "#         json_list.append(entry_dict)\n",
    "    \n",
    "#     # Convert the list to JSON format\n",
    "#     json_output = json.dumps(json_list, indent=4)\n",
    "#     return json.loads(json_output)\n"
   ]
  },
  {
   "cell_type": "markdown",
   "metadata": {},
   "source": [
    "Tavily AI for Search"
   ]
  },
  {
   "cell_type": "code",
   "execution_count": 24,
   "metadata": {},
   "outputs": [],
   "source": [
    "import os\n",
    "from langchain_community.tools.tavily_search.tool import TavilyAnswer, TavilySearchResults\n",
    "\n",
    "TAVILY_API_KEY = os.getenv(\"TAVILY_API_KEY\")\n",
    "\n",
    "search = TavilyAnswer()"
   ]
  },
  {
   "cell_type": "code",
   "execution_count": 25,
   "metadata": {},
   "outputs": [
    {
     "name": "stdout",
     "output_type": "stream",
     "text": [
      "Git is a widely used distributed version control system that allows users to track changes in their codebase over time. It is utilized by professional software developers as their primary source-control system, with a significant increase in adoption over the years. Git is known for its snapshot-based approach to data storage, distinguishing it from other version control systems. It offers various extensions and implementations, such as Git LFS for large file storage and libgit2 for cross-platform compatibility.\n"
     ]
    }
   ],
   "source": [
    "response = search.run(\"What is Git?\")\n",
    "print(response)"
   ]
  },
  {
   "cell_type": "code",
   "execution_count": 26,
   "metadata": {},
   "outputs": [],
   "source": [
    "search_results = TavilySearchResults()"
   ]
  },
  {
   "cell_type": "code",
   "execution_count": 28,
   "metadata": {},
   "outputs": [
    {
     "name": "stdout",
     "output_type": "stream",
     "text": [
      "{'url': 'https://en.wikipedia.org/wiki/Git', 'content': \"SourceForge, Bitbucket and GitLab.[92][17][18][19][20]\\nAdoption[edit]\\nThe Eclipse Foundation reported in its annual community survey that as of May 2014, Git is now the most widely used source-code management tool, with 42.9% of professional software developers reporting that they use Git as their primary source-control system[93] compared with 36.3% in 2013, 32% in 2012; or for Git responses excluding use of GitHub: 33.3% in 2014, 30.3% in 2013, 27.6% in 2012 and 12.8% in 2011.[94] Open-source directory Black Duck Open Hub reports a similar uptake among open-source projects.[95]\\nStack Overflow has included version control in their annual developer survey[96] in 2015 (16,694 responses),[97] 2017 (30,730 responses),[98] 2018 (74,298 responses)[99] and 2022 (71,379 responses).[15] Git was the overwhelming favorite of responding developers in these surveys, reporting as high as 93.9% in 2022.\\n It has bindings for many programming languages, including Ruby, Python, and Haskell.[79][80][81]\\nJS-Git is a JavaScript implementation of a subset of Git.[82]\\nGameOfTrees is an open-source implementation of Git for the OpenBSD project.[83]\\nGit server[edit]\\nAs Git is a distributed version control system, it could be used as a server out of the box. If a Windows or Mac user pulls (downloads) a version of the repository with the malicious directory, then switches to that directory, the .git directory will be overwritten (due to the case-insensitive trait of the Windows and Mac filesystems) and the malicious executable files in .git/hooks may be run, which results in the attacker's commands being executed. Version control systems used by responding developers:\\nThe UK IT jobs website itjobswatch.co.uk reports that as of late September 2016, 29.27% of UK permanent software development job openings have cited Git,[100] ahead of 12.17% for Microsoft Team Foundation Server,[101] 10.60% for Subversion,[102] 1.30% for Mercurial,[103] and 0.48% for Visual SourceSafe.[104]\\nExtensions[edit]\\nThere are many Git extensions, like Git LFS, which started as an extension to Git in the GitHub community and is now widely used by other repositories. It is currently used for backing projects as a SQL interface for Git code repositories[75] and providing encryption for Git.[76]\\nThe Dulwich implementation of Git is a pure Python software component for Python 2.7, 3.4 and 3.5.[77]\\nThe libgit2 implementation of Git is an ANSI C software library with no other dependencies, which can be built on multiple platforms, including Windows, Linux, macOS, and BSD.[78]\"}\n"
     ]
    }
   ],
   "source": [
    "response = search_results.run(\"What is Git?\")\n",
    "print(response[0])"
   ]
  },
  {
   "cell_type": "markdown",
   "metadata": {},
   "source": [
    "### Langchain Owned ReAct Agent"
   ]
  },
  {
   "cell_type": "code",
   "execution_count": 29,
   "metadata": {},
   "outputs": [],
   "source": [
    "from langchain import hub\n",
    "from langchain.agents import Tool, AgentExecutor, initialize_agent, create_react_agent\n",
    "from langchain.prompts import PromptTemplate\n",
    "from langchain_community.chat_models import ChatOllama\n",
    "from langchain_community.tools.ddg_search.tool import DuckDuckGoSearchRun\n",
    "from langchain_community.tools.wikipedia.tool import WikipediaAPIWrapper\n",
    "from langchain_experimental.tools.python.tool import PythonREPLTool\n"
   ]
  },
  {
   "cell_type": "code",
   "execution_count": 30,
   "metadata": {},
   "outputs": [],
   "source": [
    "llm = ChatOllama(model=\"llama3\")\n",
    "\n",
    "template = \"\"\"\n",
    "Answer the following question as best you can. \n",
    "Questions: {question} \n",
    "Answer: \n",
    "\"\"\"\n",
    "\n",
    "prompt_template = PromptTemplate.from_template(template=template)\n",
    "prompt = hub.pull(\"hwchase17/react\")"
   ]
  },
  {
   "cell_type": "code",
   "execution_count": 45,
   "metadata": {},
   "outputs": [],
   "source": [
    "# 1. Python REPL Tool\n",
    "python_repl = Tool(\n",
    "    name=\"Python REPL\",\n",
    "    func=PythonREPLTool(),\n",
    "    description=\"Useful when you need to use Python to answer a question. You should input Python code.\"\n",
    ")\n",
    "\n",
    "## 2. Wikipedia Query\n",
    "# wiki_search = Tool(\n",
    "#     name=\"Wikipedia\",\n",
    "#     func=WikipediaAPIWrapper(),\n",
    "#     description=\"Useful when you need to look up a topic, country, or person on Wikipedia\"\n",
    "# )\n",
    "\n",
    "# 3. General Search\n",
    "dd_go_search = Tool(\n",
    "    name=\"DuckDuckGo\",\n",
    "    func=DuckDuckGoSearchRun(),\n",
    "    description=\"Useful when you meed to perform an internet search to find information\"\n",
    ")\n",
    "\n",
    "tools = [python_repl, dd_go_search]\n",
    "agent = create_react_agent(\n",
    "    llm=llm,\n",
    "    tools=tools,\n",
    "    prompt=prompt\n",
    ")\n",
    "\n",
    "agent_executor = AgentExecutor(\n",
    "    agent=agent,\n",
    "    tools=tools,\n",
    "    verbose=True,\n",
    "    handle_parsing_errors=True,\n",
    "    max_iterations=10,\n",
    ")"
   ]
  },
  {
   "cell_type": "code",
   "execution_count": 40,
   "metadata": {},
   "outputs": [
    {
     "name": "stdout",
     "output_type": "stream",
     "text": [
      "\n",
      "\n",
      "\u001b[1m> Entering new AgentExecutor chain...\u001b[0m\n",
      "\u001b[32;1m\u001b[1;3mThought: The problem is asking for the generation of the first 10 numbers in the Fibonacci series, which is a classic problem in mathematics and programming.\n",
      "\n",
      "Action: Python REPL\n",
      "Action Input: `for i in range(10): print(f\"Fibonacci number {i+1}: {int(((1 + 5**0.5)**i - 1) / 2)}\")\u001b[0m\u001b[36;1m\u001b[1;3mFibonacci number 1: 0\n",
      "Fibonacci number 2: 1\n",
      "Fibonacci number 3: 4\n",
      "Fibonacci number 4: 16\n",
      "Fibonacci number 5: 54\n",
      "Fibonacci number 6: 176\n",
      "Fibonacci number 7: 573\n",
      "Fibonacci number 8: 1857\n",
      "Fibonacci number 9: 6012\n",
      "Fibonacci number 10: 19458\n",
      "\u001b[0m\u001b[32;1m\u001b[1;3mThought: The action taken was to use the Python REPL to generate the first 10 numbers in the Fibonacci series. The observation shows that the correct output was generated.\n",
      "\n",
      "Action: N/A (no further action needed)\n",
      "\n",
      "Thought: I now know the final answer.\n",
      "\n",
      "Final Answer: \n",
      "\n",
      "The first 10 numbers in the Fibonacci series are:\n",
      "0, 1, 4, 16, 54, 176, 573, 1857, 6012, 19458\u001b[0m\n",
      "\n",
      "\u001b[1m> Finished chain.\u001b[0m\n"
     ]
    }
   ],
   "source": [
    "question = \"Generate first 10 numbers in the Fibonacci series.\"\n",
    "output = agent_executor.invoke({\n",
    "    \"input\": prompt_template.format(question=question)\n",
    "})"
   ]
  },
  {
   "cell_type": "code",
   "execution_count": 41,
   "metadata": {},
   "outputs": [
    {
     "name": "stdout",
     "output_type": "stream",
     "text": [
      "The first 10 numbers in the Fibonacci series are:\n",
      "0, 1, 4, 16, 54, 176, 573, 1857, 6012, 19458\n"
     ]
    }
   ],
   "source": [
    "print(output[\"output\"])"
   ]
  },
  {
   "cell_type": "code",
   "execution_count": 46,
   "metadata": {},
   "outputs": [
    {
     "name": "stdout",
     "output_type": "stream",
     "text": [
      "\n",
      "\n",
      "\u001b[1m> Entering new AgentExecutor chain...\u001b[0m\n",
      "\u001b[32;1m\u001b[1;3mThought: To answer this question, I'll use my Python REPL tool.\n",
      "\n",
      "Action: Python REPL\n",
      "Action Input: None (I'll just run a simple Python code to get the information\u001b[0m\u001b[36;1m\u001b[1;3mSyntaxError('unterminated string literal (detected at line 1)', ('<string>', 1, 8, \"None (I'll just run a simple Python code to get the information\", 1, 8))\u001b[0m\u001b[32;1m\u001b[1;3mA great start!\n",
      "\n",
      "Thought: I think I made a mistake! Python REPL is not the right tool for this question. I need something that provides current and accurate information.\n",
      "\n",
      "Action: DuckDuckGo\n",
      "Action Input: \"current president of the United States\u001b[0m\u001b[33;1m\u001b[1;3mJoe Biden (born November 20, 1942, Scranton, Pennsylvania, U.S.) 46th president of the United States (2021- ) and 47th vice president of the United States (2009-17) in the Democratic administration of Pres. Barack Obama. He previously represented Delaware in the U.S. Senate (1973-2009). In order to be eligible, noncitizens must - as of June 17, 2024 - have resided in the United States for 10 or more years and be legally married to a U.S. citizen, while satisfying all ... The president of the United States is the: U.S. head of state; Chief executive of the federal government; Commander-in-Chief of the armed forces; Current president. The 46th and current president of the United States is Joseph R. Biden, Jr. He was sworn into office on January 20, 2021. Former U.S. presidents. The United States has had 45 former ... A survey of historians and presidential experts ranks President Biden in 14th place all-time, just ahead of Woodrow Wilson and Ronald Reagan. Former President Donald Trump came in last. Kamala Harris, 49th vice president of the United States (2021- ) in the Democratic administration of President Joe Biden. She was the first woman and the first African American to hold the post. She had previously served in the U.S. Senate (2017-21) and as attorney general of California (2011-17).\u001b[0m\u001b[32;1m\u001b[1;3mThought: Ah, I see! I learned that Python REPL is not the right tool for this question because it requires current and accurate information, which Python REPL can't provide.\n",
      "\n",
      "Action: None (I've already used DuckDuckGo to get the answer\u001b[0mInvalid Format: Missing 'Action Input:' after 'Action:'\u001b[32;1m\u001b[1;3mHere's my response:\n",
      "\n",
      "Question: \n",
      "Answer the following question as best you can. \n",
      "Questions: Who is the current president of the united state? \n",
      "Answer: \n",
      "\n",
      "Thought: I now know the final answer!\n",
      "\n",
      "Final Answer: Joe Biden\u001b[0m\n",
      "\n",
      "\u001b[1m> Finished chain.\u001b[0m\n"
     ]
    }
   ],
   "source": [
    "question = \"Who is the current president of the united state?\"\n",
    "output = agent_executor.invoke(\n",
    "    {\n",
    "        \"input\": prompt_template.format(question=question)\n",
    "    }\n",
    ")"
   ]
  },
  {
   "cell_type": "code",
   "execution_count": 48,
   "metadata": {},
   "outputs": [
    {
     "data": {
      "text/plain": [
       "'Joe Biden'"
      ]
     },
     "execution_count": 48,
     "metadata": {},
     "output_type": "execute_result"
    }
   ],
   "source": [
    "output[\"output\"]"
   ]
  },
  {
   "cell_type": "code",
   "execution_count": null,
   "metadata": {},
   "outputs": [],
   "source": []
  }
 ],
 "metadata": {
  "kernelspec": {
   "display_name": "langchain",
   "language": "python",
   "name": "python3"
  },
  "language_info": {
   "codemirror_mode": {
    "name": "ipython",
    "version": 3
   },
   "file_extension": ".py",
   "mimetype": "text/x-python",
   "name": "python",
   "nbconvert_exporter": "python",
   "pygments_lexer": "ipython3",
   "version": "3.12.3"
  }
 },
 "nbformat": 4,
 "nbformat_minor": 2
}
