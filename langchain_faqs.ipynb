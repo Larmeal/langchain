{
 "cells": [
  {
   "cell_type": "code",
   "execution_count": 1,
   "metadata": {},
   "outputs": [],
   "source": [
    "from langchain_community.document_loaders import PyPDFLoader\n",
    "from dotenv import load_dotenv\n",
    "\n",
    "import re\n",
    "import os"
   ]
  },
  {
   "cell_type": "markdown",
   "metadata": {},
   "source": [
    "### Environment"
   ]
  },
  {
   "cell_type": "code",
   "execution_count": 2,
   "metadata": {},
   "outputs": [],
   "source": [
    "load_dotenv()\n",
    "\n",
    "PDF_FILE = os.getenv('PDF_FILE')\n",
    "API_KEY = os.getenv('GEMINI_API_KEY')"
   ]
  },
  {
   "cell_type": "markdown",
   "metadata": {},
   "source": [
    "### Load the pdf file"
   ]
  },
  {
   "cell_type": "code",
   "execution_count": 3,
   "metadata": {},
   "outputs": [],
   "source": [
    "loader = PyPDFLoader(f\"source/{PDF_FILE}\")\n",
    "pages = loader.load()"
   ]
  },
  {
   "cell_type": "code",
   "execution_count": 4,
   "metadata": {},
   "outputs": [
    {
     "name": "stdout",
     "output_type": "stream",
     "text": [
      "[Document(page_content='ว ั น ห ย ุด บ ร ิ ษ ัท  ป ร ะ จ  ำ ป ี 2024  \\nวันหยุด มีทั้งหมด 22 วัน โดยประกอบไปด้ว ย ดังนี้ \\nมกรำคม  \\n1. จันทร์  1 มกราคม  2024  = วันขึ้นปีใหม่ \\n2. อังคาร  2 มกราคม  2024  = ชดเชยวันสิ้นปี \\n \\nก ุม ภ ำ พ ั น ธ ์ \\n3. จันทร์  26 ก.พุทธ  2024  = ชดเชยวันมาฆบูชา  \\n \\nเมษำ ยน  \\n4. จันทร์  8 เมษายน  2024  =  ชดเชยวันพระบาทสมเด็จพระพุทธยอดฟ้าจุฬาโลกมหาราช และวันที่ระลึกมหาจักรีบรม\\nราชวงศ์  \\n5. ศุกร์ 12 เมษายน  2024  = วันหยุดพิเศษ  \\n6. จันทร์  15 เมษายน  2024  = วันสงกรานต์  \\n7. อังคาร  16 เมษายน  2024  = ชดเชยวันสงกรานต์  \\n \\nพฤษภ ำค ม  \\n8. พุทธ  1 พฤษภาคม  2024  = วันแรงงานแห่งชาติ  \\n9. จันทร์  6 พฤษภาคม  2024  = ชดเชยวันฉัตรมงคล  \\n10. พุทธ  22 พฤษภาคม  2024  = วันวิสาขบูชา  \\n \\nม ิถ ุน ำ ย น \\n11. จันทร์  3 มิถุนายน  2024  = วันเฉลิมพระชนมพรรษาสมเด็จพระนางเจ้าสุทิดา พัชรสุธาพิมลลักษณ พระบรมราชินี  \\n \\nกรกฎำคม  \\n12. จันทร์  22 กรกฎาคม  2024  = ชดเชยวันอาสาฬหบูชา  \\n13. จันทร์  29 กรกฎาคม  2024  = ชดเชยวันเฉลิมพระชนมพรรษาพระบาทสมเด็จพระเจ้าอยู่หัว  \\n  ', metadata={'source': 'source/information_Companyholidays_2024_New.pdf', 'page': 0}), Document(page_content='ส ิ งห ำค ม  \\n14. จันทร์  12 สิงหาคม  2024  = วันแม่แห่งชาติ  \\n \\nต ุล ำ ค ม \\n15. จันทร์  14 ตุลาคม  2024  = ชดเชยวัน นวมินทรมหาราช  \\n16. พุทธ  23 ตุลาคม  2024  = วันป ิ ยมหาราช  \\n \\nธันวำค ม  \\n17. พฤหัสบดี  5 ธันวาคม  2024  = วันพ่อแห่งชาติ  \\n18. อังคาร  10 ธันวาคม  2024  = วันรัฐธรรมนูญ  \\n19. พฤหัสบดี  26 ธันวาคม  2024  = วันหยุดป ี ใหม่  \\n20. ศุกร์ 27 ธันวาคม  2024  = วันหยุดป ี ใหม่  \\n21. จันทร์  30 ธันวาคม  2024  = วันหยุดป ี ใหม่  \\n22. อังคาร  31 ธันวาคม  2024   = วันสิ้นปี \\n \\n \\n ', metadata={'source': 'source/information_Companyholidays_2024_New.pdf', 'page': 1})]\n"
     ]
    }
   ],
   "source": [
    "print(pages)"
   ]
  },
  {
   "cell_type": "code",
   "execution_count": 5,
   "metadata": {},
   "outputs": [
    {
     "data": {
      "text/plain": [
       "'วันหยุดบริษัทประจำปี2024\\nวันหยุดมีทั้งหมด22วันโดยประกอบไปด้วยดังนี้\\nมกรำคม\\n1.จันทร์1มกราคม2024=วันขึ้นปีใหม่\\n2.อังคาร2มกราคม2024=ชดเชยวันสิ้นปี\\n\\nกุมภำพันธ์\\n3.จันทร์26ก.พุทธ2024=ชดเชยวันมาฆบูชา\\n\\nเมษำยน\\n4.จันทร์8เมษายน2024=ชดเชยวันพระบาทสมเด็จพระพุทธยอดฟ้าจุฬาโลกมหาราชและวันที่ระลึกมหาจักรีบรม\\nราชวงศ์\\n5.ศุกร์12เมษายน2024=วันหยุดพิเศษ\\n6.จันทร์15เมษายน2024=วันสงกรานต์\\n7.อังคาร16เมษายน2024=ชดเชยวันสงกรานต์\\n\\nพฤษภำคม\\n8.พุทธ1พฤษภาคม2024=วันแรงงานแห่งชาติ\\n9.จันทร์6พฤษภาคม2024=ชดเชยวันฉัตรมงคล\\n10.พุทธ22พฤษภาคม2024=วันวิสาขบูชา\\n\\nมิถุนำยน\\n11.จันทร์3มิถุนายน2024=วันเฉลิมพระชนมพรรษาสมเด็จพระนางเจ้าสุทิดาพัชรสุธาพิมลลักษณพระบรมราชินี\\n\\nกรกฎำคม\\n12.จันทร์22กรกฎาคม2024=ชดเชยวันอาสาฬหบูชา\\n13.จันทร์29กรกฎาคม2024=ชดเชยวันเฉลิมพระชนมพรรษาพระบาทสมเด็จพระเจ้าอยู่หัว\\n'"
      ]
     },
     "execution_count": 5,
     "metadata": {},
     "output_type": "execute_result"
    }
   ],
   "source": [
    "documents = pages[0].page_content.replace(\" \", \"\")\n",
    "documents"
   ]
  },
  {
   "cell_type": "markdown",
   "metadata": {},
   "source": [
    "### Load the video"
   ]
  },
  {
   "cell_type": "code",
   "execution_count": 6,
   "metadata": {},
   "outputs": [],
   "source": [
    "# from langchain_community.document_loaders import YoutubeLoader\n",
    "\n",
    "# url = \"https://www.youtube.com/watch?v=RFY2Lvu5nSg&ab_channel=Sukorn\"\n",
    "\n",
    "# loader = YoutubeLoader.from_youtube_url(\n",
    "#     youtube_url=url, \n",
    "#     add_video_info=True,\n",
    "#     # language=[\"th\", \"id\"],\n",
    "#     # translation=\"en\",\n",
    "# )\n",
    "\n",
    "# loader.load()"
   ]
  },
  {
   "cell_type": "code",
   "execution_count": 7,
   "metadata": {},
   "outputs": [],
   "source": [
    "# from langchain.document_loaders.generic import GenericLoader\n",
    "# from langchain.document_loaders.parsers import OpenAIWhisperParser\n",
    "# from langchain.document_loaders.blob_loaders.youtube_audio import YoutubeAudioLoader\n",
    "\n",
    "# url=\"https://www.youtube.com/watch?v=zNkpdyVjpq0&ab_channel=MYTime\"\n",
    "# save_dir=\"source/youtube/\"\n",
    "# loader = GenericLoader(\n",
    "#     YoutubeAudioLoader([url],save_dir),\n",
    "#     OpenAIWhisperParser()\n",
    "# )\n",
    "# docs = loader.load()"
   ]
  },
  {
   "cell_type": "markdown",
   "metadata": {},
   "source": [
    "### Text Splitting"
   ]
  },
  {
   "cell_type": "markdown",
   "metadata": {},
   "source": [
    "With Built-in Module"
   ]
  },
  {
   "cell_type": "code",
   "execution_count": 8,
   "metadata": {},
   "outputs": [],
   "source": [
    "from langchain.text_splitter import RecursiveCharacterTextSplitter, CharacterTextSplitter\n"
   ]
  },
  {
   "cell_type": "code",
   "execution_count": 9,
   "metadata": {},
   "outputs": [],
   "source": [
    "text_splitter = RecursiveCharacterTextSplitter(\n",
    "    chunk_size = 4000,\n",
    "    chunk_overlap = 0\n",
    ")\n",
    "\n",
    "# text_splitter = CharacterTextSplitter(\n",
    "#     chunk_size=4000,\n",
    "#     chunk_overlap=0\n",
    "# )\n",
    "\n",
    "splits = text_splitter.split_documents(pages)"
   ]
  },
  {
   "cell_type": "code",
   "execution_count": 10,
   "metadata": {},
   "outputs": [
    {
     "name": "stdout",
     "output_type": "stream",
     "text": [
      "[Document(page_content='ว ั น ห ย ุด บ ร ิ ษ ัท  ป ร ะ จ  ำ ป ี 2024  \\nวันหยุด มีทั้งหมด 22 วัน โดยประกอบไปด้ว ย ดังนี้ \\nมกรำคม  \\n1. จันทร์  1 มกราคม  2024  = วันขึ้นปีใหม่ \\n2. อังคาร  2 มกราคม  2024  = ชดเชยวันสิ้นปี \\n \\nก ุม ภ ำ พ ั น ธ ์ \\n3. จันทร์  26 ก.พุทธ  2024  = ชดเชยวันมาฆบูชา  \\n \\nเมษำ ยน  \\n4. จันทร์  8 เมษายน  2024  =  ชดเชยวันพระบาทสมเด็จพระพุทธยอดฟ้าจุฬาโลกมหาราช และวันที่ระลึกมหาจักรีบรม\\nราชวงศ์  \\n5. ศุกร์ 12 เมษายน  2024  = วันหยุดพิเศษ  \\n6. จันทร์  15 เมษายน  2024  = วันสงกรานต์  \\n7. อังคาร  16 เมษายน  2024  = ชดเชยวันสงกรานต์  \\n \\nพฤษภ ำค ม  \\n8. พุทธ  1 พฤษภาคม  2024  = วันแรงงานแห่งชาติ  \\n9. จันทร์  6 พฤษภาคม  2024  = ชดเชยวันฉัตรมงคล  \\n10. พุทธ  22 พฤษภาคม  2024  = วันวิสาขบูชา  \\n \\nม ิถ ุน ำ ย น \\n11. จันทร์  3 มิถุนายน  2024  = วันเฉลิมพระชนมพรรษาสมเด็จพระนางเจ้าสุทิดา พัชรสุธาพิมลลักษณ พระบรมราชินี  \\n \\nกรกฎำคม  \\n12. จันทร์  22 กรกฎาคม  2024  = ชดเชยวันอาสาฬหบูชา  \\n13. จันทร์  29 กรกฎาคม  2024  = ชดเชยวันเฉลิมพระชนมพรรษาพระบาทสมเด็จพระเจ้าอยู่หัว', metadata={'source': 'source/information_Companyholidays_2024_New.pdf', 'page': 0}), Document(page_content='ส ิ งห ำค ม  \\n14. จันทร์  12 สิงหาคม  2024  = วันแม่แห่งชาติ  \\n \\nต ุล ำ ค ม \\n15. จันทร์  14 ตุลาคม  2024  = ชดเชยวัน นวมินทรมหาราช  \\n16. พุทธ  23 ตุลาคม  2024  = วันป ิ ยมหาราช  \\n \\nธันวำค ม  \\n17. พฤหัสบดี  5 ธันวาคม  2024  = วันพ่อแห่งชาติ  \\n18. อังคาร  10 ธันวาคม  2024  = วันรัฐธรรมนูญ  \\n19. พฤหัสบดี  26 ธันวาคม  2024  = วันหยุดป ี ใหม่  \\n20. ศุกร์ 27 ธันวาคม  2024  = วันหยุดป ี ใหม่  \\n21. จันทร์  30 ธันวาคม  2024  = วันหยุดป ี ใหม่  \\n22. อังคาร  31 ธันวาคม  2024   = วันสิ้นปี', metadata={'source': 'source/information_Companyholidays_2024_New.pdf', 'page': 1})]\n"
     ]
    }
   ],
   "source": [
    "print(splits)"
   ]
  },
  {
   "cell_type": "markdown",
   "metadata": {},
   "source": [
    "### Vector Database"
   ]
  },
  {
   "cell_type": "code",
   "execution_count": 11,
   "metadata": {},
   "outputs": [],
   "source": [
    "from langchain.vectorstores import Chroma\n",
    "from langchain_community.embeddings.google_palm\timport GooglePalmEmbeddings\n",
    "\n",
    "embedding = GooglePalmEmbeddings(google_api_key=API_KEY)"
   ]
  },
  {
   "cell_type": "code",
   "execution_count": 12,
   "metadata": {},
   "outputs": [
    {
     "name": "stderr",
     "output_type": "stream",
     "text": [
      "Delete of nonexisting embedding ID: 08b0d3de-4c7e-4e62-94d6-92c546212d13\n"
     ]
    }
   ],
   "source": [
    "persist_directory = 'source/chroma/'\n",
    "\n",
    "# Create the vector store\n",
    "vectordb = Chroma.from_documents(\n",
    "    documents=splits,\n",
    "    embedding=embedding,\n",
    "    persist_directory=persist_directory\n",
    ")\n"
   ]
  },
  {
   "cell_type": "code",
   "execution_count": 13,
   "metadata": {},
   "outputs": [],
   "source": [
    "query = \" ธันวาคม \"\n",
    "docs = vectordb.similarity_search(query, k=1)"
   ]
  },
  {
   "cell_type": "code",
   "execution_count": 14,
   "metadata": {},
   "outputs": [
    {
     "data": {
      "text/plain": [
       "{'ids': ['a280550e-cbf5-4628-b4cb-14b909ea6138',\n",
       "  'bf5ab8b1-246e-49a6-88cc-45611be7bf32'],\n",
       " 'embeddings': None,\n",
       " 'metadatas': [{'page': 0,\n",
       "   'source': 'source/information_Companyholidays_2024_New.pdf'},\n",
       "  {'page': 1, 'source': 'source/information_Companyholidays_2024_New.pdf'}],\n",
       " 'documents': ['ว ั น ห ย ุด บ ร ิ ษ ัท  ป ร ะ จ  ำ ป ี 2024  \\nวันหยุด มีทั้งหมด 22 วัน โดยประกอบไปด้ว ย ดังนี้ \\nมกรำคม  \\n1. จันทร์  1 มกราคม  2024  = วันขึ้นปีใหม่ \\n2. อังคาร  2 มกราคม  2024  = ชดเชยวันสิ้นปี \\n \\nก ุม ภ ำ พ ั น ธ ์ \\n3. จันทร์  26 ก.พุทธ  2024  = ชดเชยวันมาฆบูชา  \\n \\nเมษำ ยน  \\n4. จันทร์  8 เมษายน  2024  =  ชดเชยวันพระบาทสมเด็จพระพุทธยอดฟ้าจุฬาโลกมหาราช และวันที่ระลึกมหาจักรีบรม\\nราชวงศ์  \\n5. ศุกร์ 12 เมษายน  2024  = วันหยุดพิเศษ  \\n6. จันทร์  15 เมษายน  2024  = วันสงกรานต์  \\n7. อังคาร  16 เมษายน  2024  = ชดเชยวันสงกรานต์  \\n \\nพฤษภ ำค ม  \\n8. พุทธ  1 พฤษภาคม  2024  = วันแรงงานแห่งชาติ  \\n9. จันทร์  6 พฤษภาคม  2024  = ชดเชยวันฉัตรมงคล  \\n10. พุทธ  22 พฤษภาคม  2024  = วันวิสาขบูชา  \\n \\nม ิถ ุน ำ ย น \\n11. จันทร์  3 มิถุนายน  2024  = วันเฉลิมพระชนมพรรษาสมเด็จพระนางเจ้าสุทิดา พัชรสุธาพิมลลักษณ พระบรมราชินี  \\n \\nกรกฎำคม  \\n12. จันทร์  22 กรกฎาคม  2024  = ชดเชยวันอาสาฬหบูชา  \\n13. จันทร์  29 กรกฎาคม  2024  = ชดเชยวันเฉลิมพระชนมพรรษาพระบาทสมเด็จพระเจ้าอยู่หัว',\n",
       "  'ส ิ งห ำค ม  \\n14. จันทร์  12 สิงหาคม  2024  = วันแม่แห่งชาติ  \\n \\nต ุล ำ ค ม \\n15. จันทร์  14 ตุลาคม  2024  = ชดเชยวัน นวมินทรมหาราช  \\n16. พุทธ  23 ตุลาคม  2024  = วันป ิ ยมหาราช  \\n \\nธันวำค ม  \\n17. พฤหัสบดี  5 ธันวาคม  2024  = วันพ่อแห่งชาติ  \\n18. อังคาร  10 ธันวาคม  2024  = วันรัฐธรรมนูญ  \\n19. พฤหัสบดี  26 ธันวาคม  2024  = วันหยุดป ี ใหม่  \\n20. ศุกร์ 27 ธันวาคม  2024  = วันหยุดป ี ใหม่  \\n21. จันทร์  30 ธันวาคม  2024  = วันหยุดป ี ใหม่  \\n22. อังคาร  31 ธันวาคม  2024   = วันสิ้นปี'],\n",
       " 'uris': None,\n",
       " 'data': None,\n",
       " 'included': ['metadatas', 'documents']}"
      ]
     },
     "execution_count": 14,
     "metadata": {},
     "output_type": "execute_result"
    }
   ],
   "source": [
    "vectordb._collection.get()"
   ]
  },
  {
   "cell_type": "code",
   "execution_count": null,
   "metadata": {},
   "outputs": [],
   "source": []
  }
 ],
 "metadata": {
  "kernelspec": {
   "display_name": "langchain",
   "language": "python",
   "name": "python3"
  },
  "language_info": {
   "codemirror_mode": {
    "name": "ipython",
    "version": 3
   },
   "file_extension": ".py",
   "mimetype": "text/x-python",
   "name": "python",
   "nbconvert_exporter": "python",
   "pygments_lexer": "ipython3",
   "version": "3.12.3"
  }
 },
 "nbformat": 4,
 "nbformat_minor": 2
}
